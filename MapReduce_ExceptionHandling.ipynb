{
 "cells": [
  {
   "cell_type": "code",
   "execution_count": null,
   "id": "940d472b",
   "metadata": {},
   "outputs": [],
   "source": [
    "#Exception Handling"
   ]
  },
  {
   "cell_type": "markdown",
   "id": "29c97394",
   "metadata": {},
   "source": [
    "#Last class we have covered\n",
    "#1. Functions \n",
    "#2. Keyword arguments and arguments\n",
    "\n",
    "\n",
    "Todays class:\n",
    "1. Exception or Error Handling : how do you handle errors in a function and how can u raise errors using error handling\n",
    "2. Anonymous functions : One type of function without a name defined\n",
    "3. Map-Reduce with anonymous function"
   ]
  },
  {
   "cell_type": "code",
   "execution_count": 14,
   "id": "9239783d",
   "metadata": {},
   "outputs": [],
   "source": [
    "def dummyfunction(*inputs):\n",
    "    try:\n",
    "        for x in inputs:\n",
    "            print(x*x)\n",
    "    except Exception as e :\n",
    "         print(e)\n",
    "         print('Please provide an Integer as your input')"
   ]
  },
  {
   "cell_type": "code",
   "execution_count": 15,
   "id": "c3664aea",
   "metadata": {},
   "outputs": [
    {
     "name": "stdout",
     "output_type": "stream",
     "text": [
      "can't multiply sequence by non-int of type 'str'\n",
      "Please provide an Integer as your input\n"
     ]
    }
   ],
   "source": [
    "dummyfunction('Mumbai')"
   ]
  },
  {
   "cell_type": "code",
   "execution_count": 6,
   "id": "c06bd246",
   "metadata": {},
   "outputs": [],
   "source": [
    "def dummyfunction(*inputs):\n",
    "        for x in inputs:\n",
    "            print(x*x)"
   ]
  },
  {
   "cell_type": "code",
   "execution_count": 7,
   "id": "113a6a22",
   "metadata": {},
   "outputs": [
    {
     "ename": "TypeError",
     "evalue": "can't multiply sequence by non-int of type 'str'",
     "output_type": "error",
     "traceback": [
      "\u001b[1;31m---------------------------------------------------------------------------\u001b[0m",
      "\u001b[1;31mTypeError\u001b[0m                                 Traceback (most recent call last)",
      "Cell \u001b[1;32mIn[7], line 1\u001b[0m\n\u001b[1;32m----> 1\u001b[0m \u001b[43mdummyfunction\u001b[49m\u001b[43m(\u001b[49m\u001b[38;5;124;43m'\u001b[39;49m\u001b[38;5;124;43mMumbai\u001b[39;49m\u001b[38;5;124;43m'\u001b[39;49m\u001b[43m)\u001b[49m\n",
      "Cell \u001b[1;32mIn[6], line 3\u001b[0m, in \u001b[0;36mdummyfunction\u001b[1;34m(*inputs)\u001b[0m\n\u001b[0;32m      1\u001b[0m \u001b[38;5;28;01mdef\u001b[39;00m \u001b[38;5;21mdummyfunction\u001b[39m(\u001b[38;5;241m*\u001b[39minputs):\n\u001b[0;32m      2\u001b[0m         \u001b[38;5;28;01mfor\u001b[39;00m x \u001b[38;5;129;01min\u001b[39;00m inputs:\n\u001b[1;32m----> 3\u001b[0m             \u001b[38;5;28mprint\u001b[39m(\u001b[43mx\u001b[49m\u001b[38;5;241;43m*\u001b[39;49m\u001b[43mx\u001b[49m)\n",
      "\u001b[1;31mTypeError\u001b[0m: can't multiply sequence by non-int of type 'str'"
     ]
    }
   ],
   "source": [
    "dummyfunction('Mumbai')"
   ]
  },
  {
   "cell_type": "code",
   "execution_count": 21,
   "id": "e313b25f",
   "metadata": {},
   "outputs": [],
   "source": [
    "list_data=['1','2','3']"
   ]
  },
  {
   "cell_type": "code",
   "execution_count": 22,
   "id": "42d6b9a9",
   "metadata": {},
   "outputs": [
    {
     "ename": "IndexError",
     "evalue": "list index out of range",
     "output_type": "error",
     "traceback": [
      "\u001b[1;31m---------------------------------------------------------------------------\u001b[0m",
      "\u001b[1;31mIndexError\u001b[0m                                Traceback (most recent call last)",
      "Cell \u001b[1;32mIn[22], line 1\u001b[0m\n\u001b[1;32m----> 1\u001b[0m \u001b[43mlist_data\u001b[49m\u001b[43m[\u001b[49m\u001b[38;5;241;43m4\u001b[39;49m\u001b[43m]\u001b[49m\n",
      "\u001b[1;31mIndexError\u001b[0m: list index out of range"
     ]
    }
   ],
   "source": [
    "#Index Error\n",
    "list_data[4]"
   ]
  },
  {
   "cell_type": "code",
   "execution_count": 25,
   "id": "d00db58d",
   "metadata": {},
   "outputs": [
    {
     "ename": "SyntaxError",
     "evalue": "invalid syntax (703310706.py, line 1)",
     "output_type": "error",
     "traceback": [
      "\u001b[1;36m  Cell \u001b[1;32mIn[25], line 1\u001b[1;36m\u001b[0m\n\u001b[1;33m    print(assert 10,10)\u001b[0m\n\u001b[1;37m          ^\u001b[0m\n\u001b[1;31mSyntaxError\u001b[0m\u001b[1;31m:\u001b[0m invalid syntax\n"
     ]
    }
   ],
   "source": [
    "print(assert 10,10)"
   ]
  },
  {
   "cell_type": "code",
   "execution_count": 27,
   "id": "ade176e5",
   "metadata": {},
   "outputs": [
    {
     "ename": "NameError",
     "evalue": "name 'pandas' is not defined",
     "output_type": "error",
     "traceback": [
      "\u001b[1;31m---------------------------------------------------------------------------\u001b[0m",
      "\u001b[1;31mNameError\u001b[0m                                 Traceback (most recent call last)",
      "Cell \u001b[1;32mIn[27], line 1\u001b[0m\n\u001b[1;32m----> 1\u001b[0m x\u001b[38;5;241m=\u001b[39m\u001b[43mpandas\u001b[49m\u001b[38;5;241m.\u001b[39mDataFrame()\n",
      "\u001b[1;31mNameError\u001b[0m: name 'pandas' is not defined"
     ]
    }
   ],
   "source": [
    "x=pandas.DataFrame()"
   ]
  },
  {
   "cell_type": "code",
   "execution_count": 28,
   "id": "4c903649",
   "metadata": {},
   "outputs": [],
   "source": [
    "mycountry = {\n",
    "  \"state1\" : {\"name\" : \"Emil\",\"year\" : {\"year1\":2008,\"year2\":2009}},\n",
    "  \"state2\" : {\"name\" : \"Tobias\",\"year\" : 2007},\n",
    "  \"state3\" : {\"name\" : \"Linus\",\"year\" : 2011}\n",
    "}"
   ]
  },
  {
   "cell_type": "code",
   "execution_count": 29,
   "id": "511e5955",
   "metadata": {},
   "outputs": [
    {
     "ename": "KeyError",
     "evalue": "'state4'",
     "output_type": "error",
     "traceback": [
      "\u001b[1;31m---------------------------------------------------------------------------\u001b[0m",
      "\u001b[1;31mKeyError\u001b[0m                                  Traceback (most recent call last)",
      "Cell \u001b[1;32mIn[29], line 1\u001b[0m\n\u001b[1;32m----> 1\u001b[0m \u001b[43mmycountry\u001b[49m\u001b[43m[\u001b[49m\u001b[38;5;124;43m'\u001b[39;49m\u001b[38;5;124;43mstate4\u001b[39;49m\u001b[38;5;124;43m'\u001b[39;49m\u001b[43m]\u001b[49m\n",
      "\u001b[1;31mKeyError\u001b[0m: 'state4'"
     ]
    }
   ],
   "source": [
    "mycountry['state4']"
   ]
  },
  {
   "cell_type": "code",
   "execution_count": 32,
   "id": "6197b3ef",
   "metadata": {},
   "outputs": [
    {
     "ename": "AttributeError",
     "evalue": "'int' object has no attribute 'append'",
     "output_type": "error",
     "traceback": [
      "\u001b[1;31m---------------------------------------------------------------------------\u001b[0m",
      "\u001b[1;31mAttributeError\u001b[0m                            Traceback (most recent call last)",
      "Cell \u001b[1;32mIn[32], line 2\u001b[0m\n\u001b[0;32m      1\u001b[0m x\u001b[38;5;241m=\u001b[39m(\u001b[38;5;241m2\u001b[39m)\n\u001b[1;32m----> 2\u001b[0m \u001b[43mx\u001b[49m\u001b[38;5;241;43m.\u001b[39;49m\u001b[43mappend\u001b[49m(\u001b[38;5;241m4\u001b[39m)\n",
      "\u001b[1;31mAttributeError\u001b[0m: 'int' object has no attribute 'append'"
     ]
    }
   ],
   "source": [
    "x=(2)\n",
    "x.append(4)"
   ]
  },
  {
   "cell_type": "code",
   "execution_count": 31,
   "id": "e0c32fc4",
   "metadata": {},
   "outputs": [
    {
     "ename": "TypeError",
     "evalue": "kungfu() takes 1 positional argument but 2 were given",
     "output_type": "error",
     "traceback": [
      "\u001b[1;31m---------------------------------------------------------------------------\u001b[0m",
      "\u001b[1;31mTypeError\u001b[0m                                 Traceback (most recent call last)",
      "Cell \u001b[1;32mIn[31], line 3\u001b[0m\n\u001b[0;32m      1\u001b[0m \u001b[38;5;28;01mdef\u001b[39;00m \u001b[38;5;21mkungfu\u001b[39m(\u001b[38;5;28minput\u001b[39m):\n\u001b[0;32m      2\u001b[0m     output\u001b[38;5;241m=\u001b[39m\u001b[38;5;28minput\u001b[39m\u001b[38;5;241m*\u001b[39m\u001b[38;5;241m2\u001b[39m\n\u001b[1;32m----> 3\u001b[0m \u001b[43mkungfu\u001b[49m\u001b[43m(\u001b[49m\u001b[38;5;241;43m2\u001b[39;49m\u001b[43m,\u001b[49m\u001b[38;5;241;43m4\u001b[39;49m\u001b[43m)\u001b[49m\n",
      "\u001b[1;31mTypeError\u001b[0m: kungfu() takes 1 positional argument but 2 were given"
     ]
    }
   ],
   "source": [
    "def kungfu(input):\n",
    "    output=input*2\n",
    "kungfu(2,4)"
   ]
  },
  {
   "cell_type": "code",
   "execution_count": 20,
   "id": "7c4accbb",
   "metadata": {},
   "outputs": [
    {
     "name": "stdout",
     "output_type": "stream",
     "text": [
      "6\n",
      "6 This is not a prime number\n",
      "6 This is not a prime number\n",
      "6 This is prime number \n",
      "6 This is prime number \n"
     ]
    }
   ],
   "source": [
    "x  = int(input())\n",
    "for i in range(2,x):\n",
    "    if x%i==0:\n",
    "        print(x,\"This is not a prime number\")\n",
    "    else:\n",
    "        print(x,\"This is prime number \")"
   ]
  },
  {
   "attachments": {
    "image.png": {
     "image/png": "[encoded data removed]"
    }
   },
   "cell_type": "markdown",
   "id": "88e2abef",
   "metadata": {},
   "source": [
    "![image.png](attachment:image.png)"
   ]
  },
  {
   "cell_type": "code",
   "execution_count": 34,
   "id": "81735b3c",
   "metadata": {},
   "outputs": [
    {
     "name": "stdout",
     "output_type": "stream",
     "text": [
      "please add money in your account\n"
     ]
    }
   ],
   "source": [
    "# Value error, raise error before going to the exception module and you are sure that the error is due to a value mismatch\n",
    "# try for unsafe code\n",
    "try:\n",
    "\tamount = 1999\n",
    "\tif amount < 2999:\n",
    "\t\t# raise the ValueError\n",
    "\t\traise ValueError(\"please add money in your account\")\n",
    "\telse:\n",
    "\t\tprint(\"You are eligible to purchase DSA Self Paced course\")\n",
    "\t\t\t\n",
    "# if false then raise the value error\n",
    "except ValueError as e:\n",
    "\t\tprint(e)\n"
   ]
  },
  {
   "cell_type": "markdown",
   "id": "7b551aa8",
   "metadata": {},
   "source": [
    "try:\n",
    "    code \n",
    "    code \n",
    "    if condition is false:\n",
    "        raise ValueError('Put some definition')\n",
    "    if condition is false\n",
    "        raise ValueError('Put some other condition')"
   ]
  },
  {
   "cell_type": "code",
   "execution_count": 36,
   "id": "01f45379",
   "metadata": {},
   "outputs": [
    {
     "name": "stdout",
     "output_type": "stream",
     "text": [
      "Mumbai\n",
      "Enter input city that is not Mumbai\n"
     ]
    }
   ],
   "source": [
    "x=input()\n",
    "# x should not be a Maharashtra or x should not be Mumbai\n",
    "try:\n",
    "    if x=='Maharashtra':\n",
    "        raise ValueError('Enter input state that is not Maharashtra')\n",
    "    if x=='Mumbai':\n",
    "        raise ValueError('Enter input city that is not Mumbai')\n",
    "except ValueError as e:\n",
    "       print(e)"
   ]
  },
  {
   "cell_type": "code",
   "execution_count": null,
   "id": "15f783f8",
   "metadata": {},
   "outputs": [],
   "source": [
    "def func():\n",
    "    try:\n",
    "        name=input(\"enter name\")\n",
    "        if len(name)==0:\n",
    "            raise ValueError(\"please fill name feild\")\n",
    "        else:\n",
    "            print('your name is : ',name)\n",
    "    except ValueError as v:\n",
    "        print(v)\n",
    "        func()"
   ]
  },
  {
   "cell_type": "code",
   "execution_count": null,
   "id": "675f606d",
   "metadata": {},
   "outputs": [],
   "source": []
  },
  {
   "cell_type": "code",
   "execution_count": null,
   "id": "f494825b",
   "metadata": {},
   "outputs": [],
   "source": []
  },
  {
   "cell_type": "code",
   "execution_count": null,
   "id": "37aadc85",
   "metadata": {},
   "outputs": [],
   "source": []
  },
  {
   "cell_type": "code",
   "execution_count": null,
   "id": "79762974",
   "metadata": {},
   "outputs": [],
   "source": []
  },
  {
   "cell_type": "code",
   "execution_count": null,
   "id": "0f7bd058",
   "metadata": {},
   "outputs": [],
   "source": []
  },
  {
   "cell_type": "code",
   "execution_count": null,
   "id": "a13a3f27",
   "metadata": {},
   "outputs": [],
   "source": []
  },
  {
   "cell_type": "markdown",
   "id": "4292cea4",
   "metadata": {},
   "source": [
    "Anonymous Functions:\n",
    "* in functional programming, anonymous functions (also called lambda functions) are preferred. \n",
    "* They’re called anonymous because they’re not bound to any name, in line with functional programming’s tendency towards statelessness. \n",
    "* The difference between lambda functions and regular Python functions is that lambda functions evaluate a single expression and return a function, whereas the latter do not necessarily have to do it. \n",
    "* This means that lambda functions cannot use statements such as conditions or even the return keyword"
   ]
  },
  {
   "cell_type": "code",
   "execution_count": null,
   "id": "64125134",
   "metadata": {},
   "outputs": [],
   "source": [
    "# Regular Function\n",
    "def Function_name(arguments):\n",
    "    code\n",
    "    return "
   ]
  },
  {
   "cell_type": "code",
   "execution_count": null,
   "id": "39807a09",
   "metadata": {},
   "outputs": [],
   "source": [
    "# keep function short and sweet\n",
    "#Anonymous function\n",
    "#(lambda arguments : use arguments to write any code)"
   ]
  },
  {
   "cell_type": "code",
   "execution_count": 40,
   "id": "387b6f73",
   "metadata": {},
   "outputs": [
    {
     "data": {
      "text/plain": [
       "8"
      ]
     },
     "execution_count": 40,
     "metadata": {},
     "output_type": "execute_result"
    }
   ],
   "source": [
    "#simple function takes one input and gives its square\n",
    "(lambda x:x*x*2)(2)"
   ]
  },
  {
   "cell_type": "code",
   "execution_count": 53,
   "id": "2657b5db",
   "metadata": {},
   "outputs": [
    {
     "data": {
      "text/plain": [
       "[2, 3, 4, 5, 6]"
      ]
     },
     "execution_count": 53,
     "metadata": {},
     "output_type": "execute_result"
    }
   ],
   "source": [
    "#Dont try *args and **kwards with lambda, doesnt work\n",
    "C=lambda *args:[val for val in args]\n",
    "C(2,3,4,5,6)"
   ]
  },
  {
   "cell_type": "code",
   "execution_count": 50,
   "id": "5220a0cd",
   "metadata": {},
   "outputs": [],
   "source": [
    "C = lambda *args:[d**3 for d in args]"
   ]
  },
  {
   "cell_type": "code",
   "execution_count": null,
   "id": "8567aaf6",
   "metadata": {},
   "outputs": [],
   "source": []
  },
  {
   "cell_type": "code",
   "execution_count": 51,
   "id": "c2d47a3d",
   "metadata": {},
   "outputs": [
    {
     "data": {
      "text/plain": [
       "[1, 8, 27, 64, 125]"
      ]
     },
     "execution_count": 51,
     "metadata": {},
     "output_type": "execute_result"
    }
   ],
   "source": [
    "C(1,2,3,4,5)"
   ]
  },
  {
   "cell_type": "code",
   "execution_count": null,
   "id": "4e3c8875",
   "metadata": {},
   "outputs": [],
   "source": [
    "val = lambda *args : sum(args)\n",
    "val(2,3,5,6,7)"
   ]
  },
  {
   "cell_type": "code",
   "execution_count": 3,
   "id": "24eba605",
   "metadata": {},
   "outputs": [],
   "source": [
    "#(lambda x: int(x)**int(x))(input())\n",
    "# Syntax (lambda variables: function definition)[usefunction]"
   ]
  },
  {
   "cell_type": "code",
   "execution_count": 43,
   "id": "62bfcfdf",
   "metadata": {},
   "outputs": [],
   "source": [
    "NewFunction=(lambda x,y,z:x+y+z) # Single line definition for a function"
   ]
  },
  {
   "cell_type": "code",
   "execution_count": 44,
   "id": "c286957a",
   "metadata": {},
   "outputs": [
    {
     "data": {
      "text/plain": [
       "function"
      ]
     },
     "execution_count": 44,
     "metadata": {},
     "output_type": "execute_result"
    }
   ],
   "source": [
    "type(NewFunction)"
   ]
  },
  {
   "cell_type": "code",
   "execution_count": 45,
   "id": "fcd64bb3",
   "metadata": {},
   "outputs": [
    {
     "data": {
      "text/plain": [
       "6"
      ]
     },
     "execution_count": 45,
     "metadata": {},
     "output_type": "execute_result"
    }
   ],
   "source": [
    "NewFunction(1,2,3)"
   ]
  },
  {
   "cell_type": "code",
   "execution_count": 48,
   "id": "7bf859cf",
   "metadata": {},
   "outputs": [],
   "source": [
    "NewFunc=(lambda x,y,z:[y*2 for val in range(x,z) if (val>y)&(val<z)]) #lambda, list comprehension,assigned lambda to a function name"
   ]
  },
  {
   "cell_type": "code",
   "execution_count": 49,
   "id": "4a5c6970",
   "metadata": {},
   "outputs": [
    {
     "data": {
      "text/plain": [
       "[20,\n",
       " 20,\n",
       " 20,\n",
       " 20,\n",
       " 20,\n",
       " 20,\n",
       " 20,\n",
       " 20,\n",
       " 20,\n",
       " 20,\n",
       " 20,\n",
       " 20,\n",
       " 20,\n",
       " 20,\n",
       " 20,\n",
       " 20,\n",
       " 20,\n",
       " 20,\n",
       " 20,\n",
       " 20,\n",
       " 20,\n",
       " 20,\n",
       " 20,\n",
       " 20,\n",
       " 20,\n",
       " 20,\n",
       " 20,\n",
       " 20,\n",
       " 20,\n",
       " 20,\n",
       " 20,\n",
       " 20,\n",
       " 20,\n",
       " 20,\n",
       " 20,\n",
       " 20,\n",
       " 20,\n",
       " 20,\n",
       " 20,\n",
       " 20,\n",
       " 20,\n",
       " 20,\n",
       " 20,\n",
       " 20,\n",
       " 20,\n",
       " 20,\n",
       " 20,\n",
       " 20,\n",
       " 20,\n",
       " 20,\n",
       " 20,\n",
       " 20,\n",
       " 20,\n",
       " 20,\n",
       " 20,\n",
       " 20,\n",
       " 20,\n",
       " 20,\n",
       " 20,\n",
       " 20,\n",
       " 20,\n",
       " 20,\n",
       " 20,\n",
       " 20,\n",
       " 20,\n",
       " 20,\n",
       " 20,\n",
       " 20,\n",
       " 20,\n",
       " 20,\n",
       " 20,\n",
       " 20,\n",
       " 20,\n",
       " 20,\n",
       " 20,\n",
       " 20,\n",
       " 20,\n",
       " 20,\n",
       " 20,\n",
       " 20,\n",
       " 20,\n",
       " 20,\n",
       " 20,\n",
       " 20,\n",
       " 20,\n",
       " 20,\n",
       " 20,\n",
       " 20,\n",
       " 20,\n",
       " 20,\n",
       " 20,\n",
       " 20,\n",
       " 20,\n",
       " 20,\n",
       " 20,\n",
       " 20,\n",
       " 20,\n",
       " 20,\n",
       " 20,\n",
       " 20,\n",
       " 20,\n",
       " 20,\n",
       " 20,\n",
       " 20,\n",
       " 20,\n",
       " 20,\n",
       " 20,\n",
       " 20,\n",
       " 20,\n",
       " 20,\n",
       " 20,\n",
       " 20,\n",
       " 20,\n",
       " 20,\n",
       " 20,\n",
       " 20,\n",
       " 20,\n",
       " 20,\n",
       " 20,\n",
       " 20,\n",
       " 20,\n",
       " 20,\n",
       " 20,\n",
       " 20,\n",
       " 20,\n",
       " 20,\n",
       " 20,\n",
       " 20,\n",
       " 20,\n",
       " 20,\n",
       " 20,\n",
       " 20,\n",
       " 20,\n",
       " 20,\n",
       " 20,\n",
       " 20,\n",
       " 20,\n",
       " 20,\n",
       " 20,\n",
       " 20,\n",
       " 20,\n",
       " 20,\n",
       " 20,\n",
       " 20,\n",
       " 20,\n",
       " 20,\n",
       " 20,\n",
       " 20,\n",
       " 20,\n",
       " 20,\n",
       " 20,\n",
       " 20,\n",
       " 20,\n",
       " 20,\n",
       " 20,\n",
       " 20,\n",
       " 20,\n",
       " 20,\n",
       " 20,\n",
       " 20,\n",
       " 20,\n",
       " 20,\n",
       " 20,\n",
       " 20,\n",
       " 20,\n",
       " 20,\n",
       " 20,\n",
       " 20,\n",
       " 20,\n",
       " 20,\n",
       " 20,\n",
       " 20,\n",
       " 20,\n",
       " 20,\n",
       " 20,\n",
       " 20,\n",
       " 20,\n",
       " 20,\n",
       " 20,\n",
       " 20,\n",
       " 20,\n",
       " 20,\n",
       " 20,\n",
       " 20,\n",
       " 20,\n",
       " 20,\n",
       " 20,\n",
       " 20,\n",
       " 20,\n",
       " 20,\n",
       " 20,\n",
       " 20,\n",
       " 20,\n",
       " 20,\n",
       " 20,\n",
       " 20,\n",
       " 20,\n",
       " 20,\n",
       " 20,\n",
       " 20]"
      ]
     },
     "execution_count": 49,
     "metadata": {},
     "output_type": "execute_result"
    }
   ],
   "source": [
    "NewFunc(100,10,300)"
   ]
  },
  {
   "cell_type": "code",
   "execution_count": null,
   "id": "42c48982",
   "metadata": {},
   "outputs": [],
   "source": [
    "Example_List has got 100 items, execute a function in each of these 100 items"
   ]
  },
  {
   "cell_type": "code",
   "execution_count": null,
   "id": "bffe02ad",
   "metadata": {},
   "outputs": [],
   "source": []
  },
  {
   "cell_type": "code",
   "execution_count": null,
   "id": "374e8d30",
   "metadata": {},
   "outputs": [],
   "source": []
  },
  {
   "cell_type": "code",
   "execution_count": null,
   "id": "32b1f679",
   "metadata": {},
   "outputs": [],
   "source": []
  },
  {
   "cell_type": "code",
   "execution_count": null,
   "id": "814c0436",
   "metadata": {},
   "outputs": [],
   "source": []
  },
  {
   "cell_type": "code",
   "execution_count": null,
   "id": "c31cd2a6",
   "metadata": {},
   "outputs": [],
   "source": []
  },
  {
   "cell_type": "code",
   "execution_count": null,
   "id": "b5e2ee84",
   "metadata": {},
   "outputs": [],
   "source": []
  },
  {
   "cell_type": "markdown",
   "id": "8c125392",
   "metadata": {},
   "source": [
    "To improve usage of lamda...we take help from map"
   ]
  },
  {
   "cell_type": "code",
   "execution_count": null,
   "id": "149fd4f6",
   "metadata": {},
   "outputs": [],
   "source": [
    "# syntax : map( what, where)\n",
    "# Returns a map generator object with memory location "
   ]
  },
  {
   "cell_type": "code",
   "execution_count": null,
   "id": "1f222633",
   "metadata": {},
   "outputs": [],
   "source": []
  },
  {
   "cell_type": "code",
   "execution_count": null,
   "id": "61301142",
   "metadata": {},
   "outputs": [],
   "source": []
  },
  {
   "cell_type": "code",
   "execution_count": null,
   "id": "976c306d",
   "metadata": {},
   "outputs": [],
   "source": []
  },
  {
   "cell_type": "code",
   "execution_count": null,
   "id": "22bec3ba",
   "metadata": {},
   "outputs": [],
   "source": []
  },
  {
   "cell_type": "code",
   "execution_count": null,
   "id": "1426dc85",
   "metadata": {},
   "outputs": [],
   "source": []
  },
  {
   "cell_type": "code",
   "execution_count": null,
   "id": "80436369",
   "metadata": {},
   "outputs": [],
   "source": []
  },
  {
   "cell_type": "code",
   "execution_count": 3,
   "id": "6246edd9",
   "metadata": {},
   "outputs": [],
   "source": [
    "def square_number(x):\n",
    "    return x**2"
   ]
  },
  {
   "cell_type": "code",
   "execution_count": 4,
   "id": "fefd5269",
   "metadata": {},
   "outputs": [
    {
     "name": "stdout",
     "output_type": "stream",
     "text": [
      "[1, 4, 9, 16, 25, 36, 49]\n"
     ]
    },
    {
     "data": {
      "text/plain": [
       "[1, 4, 9, 16, 25, 36, 49]"
      ]
     },
     "execution_count": 4,
     "metadata": {},
     "output_type": "execute_result"
    }
   ],
   "source": [
    "Number_List=[1,2,3,4,5,6,7]\n",
    "# Use map to apply some function to each and every item of this list\n",
    "#map(what to do,where to do )\n",
    "#map(Function, Data)\n",
    "Square_List=map(lambda x:x*x,Number_List) #This will generate a generator object of map\n",
    "#This is called as lazy evaluation\n",
    "print(list(Square_List))\n",
    "# Instead of lambda we can also use a user defined function or a python function \n",
    "Square_List1=map(square_number,Number_List)\n",
    "list(Square_List1)"
   ]
  },
  {
   "cell_type": "code",
   "execution_count": null,
   "id": "f3e4c02e",
   "metadata": {},
   "outputs": [],
   "source": [
    "#use map object as an iterator\n",
    "# for elem in map object:\n",
    "#        do something\n"
   ]
  },
  {
   "cell_type": "code",
   "execution_count": 6,
   "id": "78342f6c",
   "metadata": {},
   "outputs": [],
   "source": [
    "# filter\n",
    "# filter(what function, data to apply this function)\n",
    "# Filter is similar to map, but instead of applying it on every element it reduces the element\n",
    "\n",
    "\n"
   ]
  },
  {
   "cell_type": "code",
   "execution_count": 9,
   "id": "a12ce7fa",
   "metadata": {},
   "outputs": [
    {
     "name": "stdout",
     "output_type": "stream",
     "text": [
      "[991, 992, 993, 994, 995, 996, 997, 998, 999]\n"
     ]
    }
   ],
   "source": [
    "def filter_data(x):\n",
    "    if x>990:\n",
    "        return x\n",
    "Number_List=list(range(1,1000))\n",
    "Filter_List=list(filter(filter_data,Number_List))\n",
    "print(Filter_List)"
   ]
  },
  {
   "cell_type": "code",
   "execution_count": null,
   "id": "34fbb4c5",
   "metadata": {},
   "outputs": [],
   "source": [
    "#Using Filter option seperate out numbers that are multiples of 5 and 15"
   ]
  },
  {
   "cell_type": "code",
   "execution_count": 24,
   "id": "5d655295",
   "metadata": {},
   "outputs": [
    {
     "name": "stdout",
     "output_type": "stream",
     "text": [
      "['a', 'a', 'e', 'i', 'o', 'u']\n",
      "['a', 'a', 'e', 'i', 'o', 'u']\n"
     ]
    },
    {
     "data": {
      "text/plain": [
       "set()"
      ]
     },
     "execution_count": 24,
     "metadata": {},
     "output_type": "execute_result"
    }
   ],
   "source": [
    "# Using Filter if a list of string contains vowel['a','e','i','o','u'] in \n",
    "# lower case only then filter that word\n",
    "#Swaroop\n",
    "def vowel(a):\n",
    "    if a in ['a','e','i','o','u']:\n",
    "        return a\n",
    "ss = ['A','a','D','X','Y','U','a','e','i','o','u','A','E','I','O','U']\n",
    "z = list(filter(vowel,ss))\n",
    "print(list(z))\n",
    "#Rohit\n",
    "\n",
    "def filter_data(x):\n",
    "    if(x=='a' or x=='e' or x=='i' or x=='o' or x=='u'):\n",
    "        return x\n",
    "ans=filter(filter_data,ss)\n",
    "print(list(ans))"
   ]
  },
  {
   "cell_type": "code",
   "execution_count": 62,
   "id": "58e32c64",
   "metadata": {},
   "outputs": [
    {
     "name": "stdout",
     "output_type": "stream",
     "text": [
      "[991, 992, 993, 994, 995, 996, 997, 998, 999]\n"
     ]
    }
   ],
   "source": [
    "Filter_List=list(filter(filter_data,Number_List))\n",
    "print(Filter_List)\n",
    "'''if u give 100 elements to map and ask it to filter anything \n",
    "based on a condtion, it will still return 100 elements in output\n",
    "\n",
    "So it is good to use filter method, if u want to return only the desired elements\n",
    "\n",
    "'''\n"
   ]
  },
  {
   "cell_type": "code",
   "execution_count": 25,
   "id": "c8729d9b",
   "metadata": {},
   "outputs": [
    {
     "data": {
      "text/plain": [
       "889107565229"
      ]
     },
     "execution_count": 25,
     "metadata": {},
     "output_type": "execute_result"
    }
   ],
   "source": [
    "Number_List=[23,21,45,98] #23*2+ sq(21).....\n",
    "# need to find sum of all the elements of this list\n",
    "#If you are using python 3 then import reduce\n",
    "from functools import reduce\n",
    "Filter_List=reduce(lambda x,y:x**2+y**2,Number_List)\n",
    "\n",
    "Filter_List"
   ]
  },
  {
   "cell_type": "code",
   "execution_count": 28,
   "id": "41fb7bf1",
   "metadata": {},
   "outputs": [
    {
     "data": {
      "text/plain": [
       "'AaDXYUaeiouAEIOU'"
      ]
     },
     "execution_count": 28,
     "metadata": {},
     "output_type": "execute_result"
    }
   ],
   "source": [
    "ss = ['A','a','D','X','Y','U','a','e','i','o','u','A','E','I','O','U']\n",
    "Filter_List=reduce(lambda x,y:str(x)+str(y),ss)\n",
    "Filter_List"
   ]
  },
  {
   "cell_type": "code",
   "execution_count": 2,
   "id": "afc2898e",
   "metadata": {},
   "outputs": [
    {
     "ename": "KeyboardInterrupt",
     "evalue": "",
     "output_type": "error",
     "traceback": [
      "\u001b[1;31m---------------------------------------------------------------------------\u001b[0m",
      "\u001b[1;31mKeyboardInterrupt\u001b[0m                         Traceback (most recent call last)",
      "Cell \u001b[1;32mIn[2], line 9\u001b[0m\n\u001b[0;32m      7\u001b[0m \u001b[38;5;28;01mfrom\u001b[39;00m \u001b[38;5;21;01mfunctools\u001b[39;00m \u001b[38;5;28;01mimport\u001b[39;00m reduce\n\u001b[0;32m      8\u001b[0m new_list\u001b[38;5;241m=\u001b[39m\u001b[38;5;28mlist\u001b[39m(\u001b[38;5;28mfilter\u001b[39m(filter_data,Number_List))\n\u001b[1;32m----> 9\u001b[0m Filter_List\u001b[38;5;241m=\u001b[39m\u001b[43mreduce\u001b[49m\u001b[43m(\u001b[49m\u001b[38;5;28;43;01mlambda\u001b[39;49;00m\u001b[43m \u001b[49m\u001b[43mx\u001b[49m\u001b[43m,\u001b[49m\u001b[43my\u001b[49m\u001b[43m:\u001b[49m\u001b[43mx\u001b[49m\u001b[38;5;241;43m*\u001b[39;49m\u001b[38;5;241;43m*\u001b[39;49m\u001b[38;5;241;43m2\u001b[39;49m\u001b[38;5;241;43m+\u001b[39;49m\u001b[43my\u001b[49m\u001b[38;5;241;43m*\u001b[39;49m\u001b[38;5;241;43m*\u001b[39;49m\u001b[38;5;241;43m2\u001b[39;49m\u001b[43m,\u001b[49m\u001b[43mnew_list\u001b[49m\u001b[43m)\u001b[49m\n\u001b[0;32m     10\u001b[0m Filter_List\n",
      "Cell \u001b[1;32mIn[2], line 9\u001b[0m, in \u001b[0;36m<lambda>\u001b[1;34m(x, y)\u001b[0m\n\u001b[0;32m      7\u001b[0m \u001b[38;5;28;01mfrom\u001b[39;00m \u001b[38;5;21;01mfunctools\u001b[39;00m \u001b[38;5;28;01mimport\u001b[39;00m reduce\n\u001b[0;32m      8\u001b[0m new_list\u001b[38;5;241m=\u001b[39m\u001b[38;5;28mlist\u001b[39m(\u001b[38;5;28mfilter\u001b[39m(filter_data,Number_List))\n\u001b[1;32m----> 9\u001b[0m Filter_List\u001b[38;5;241m=\u001b[39mreduce(\u001b[38;5;28;01mlambda\u001b[39;00m x,y:x\u001b[38;5;241m*\u001b[39m\u001b[38;5;241m*\u001b[39m\u001b[38;5;241m2\u001b[39m\u001b[38;5;241m+\u001b[39m\u001b[43my\u001b[49m\u001b[38;5;241;43m*\u001b[39;49m\u001b[38;5;241;43m*\u001b[39;49m\u001b[38;5;241;43m2\u001b[39;49m,new_list)\n\u001b[0;32m     10\u001b[0m Filter_List\n",
      "\u001b[1;31mKeyboardInterrupt\u001b[0m: "
     ]
    }
   ],
   "source": [
    "#Given a list find the sum of squares of odd numbers in that list\n",
    "# use filter and reduce together\n",
    "def filter_data(x):\n",
    "    if x%2!=0:\n",
    "        return x\n",
    "Number_List=list(range(1,1000))\n",
    "from functools import reduce\n",
    "new_list=list(filter(filter_data,Number_List))\n",
    "Filter_List=reduce(lambda x,y:x**2+y**2,new_list)\n",
    "Filter_List"
   ]
  },
  {
   "attachments": {
    "image.png": {
     "image/png": "[encoded data removed]"
    }
   },
   "cell_type": "markdown",
   "id": "1d1426f1",
   "metadata": {},
   "source": [
    "![image.png](attachment:image.png)"
   ]
  },
  {
   "cell_type": "code",
   "execution_count": 7,
   "id": "21402c47",
   "metadata": {},
   "outputs": [
    {
     "name": "stdout",
     "output_type": "stream",
     "text": [
      "<class 'filter'>\n",
      "158\n"
     ]
    }
   ],
   "source": [
    "from functools import reduce\n",
    "def sum_of_squares(numbers):\n",
    "    odd_numbers = filter(lambda x: x % 2 == 1, numbers)\n",
    "    print(type(odd_numbers))\n",
    "    sum_of_num = reduce(lambda x, y: x + y**2, odd_numbers)\n",
    "    return sum_of_num\n",
    "\n",
    "numbers = [2, 3, 4, 5, 6, 7, 8, 9]\n",
    "result = sum_of_squares(numbers)\n",
    "print(result)"
   ]
  },
  {
   "cell_type": "markdown",
   "id": "e53b56d1",
   "metadata": {},
   "source": [
    "def make_payment(method:[cash,creditcard,debitcard]):\n",
    "    code\n",
    "    return output\n",
    "\n",
    "add another payment method to the above func : UPI needs to be added\n",
    "    Option 1: I will modify make_payment and I will use it \n",
    "    def make_payment(method:[cash,creditcard,debitcard,UPI]):\n",
    "    code\n",
    "    new code for UPI\n",
    "    return output\n",
    "    # Challenges: \n",
    "    1. Existing functionality might get modified by mistake\n",
    "    2. You might make the existing func complicated\n",
    "    3. This change sometimes can be only temporary and not permanenently req\n",
    "    \n",
    "    Option 2: Here u add a wrapper function, that only handles UPI and allows existing function to do its job\n",
    "        def make_payment_new(make_payment#THis is a function):\n",
    "            write new code for upi # new function \n",
    "            make_payment() # old function\n",
    "            return output of new function\n",
    "    \n",
    "    In Option 2 , make_payment_new is the wrapper or decorator function or wrapper function"
   ]
  },
  {
   "cell_type": "code",
   "execution_count": 23,
   "id": "b379bdba",
   "metadata": {},
   "outputs": [
    {
     "name": "stdout",
     "output_type": "stream",
     "text": [
      "I am existing_func\n",
      "Run New Function\n",
      "**********\n",
      "I got decorated\n",
      "I am existing_func\n"
     ]
    }
   ],
   "source": [
    "def decorator_func(func):\n",
    "    def new_func():\n",
    "        print(\"I got decorated\") # in addition this code will run, along with existing func\n",
    "        func()\n",
    "    return new_func\n",
    "    \n",
    "def existing_func():\n",
    "    print(\"I am existing_func\")\n",
    "    \n",
    "existing_func()\n",
    "print('Run New Function')\n",
    "print('*'*10)\n",
    "\n",
    "pretty =decorator_func(existing_func) # decorating a function, where u are decorating or wrapping existing func with decorator func\n",
    "pretty()"
   ]
  },
  {
   "cell_type": "code",
   "execution_count": 21,
   "id": "30e67189",
   "metadata": {},
   "outputs": [
    {
     "name": "stdout",
     "output_type": "stream",
     "text": [
      "I am existing_func\n"
     ]
    }
   ],
   "source": [
    "existing_func()"
   ]
  },
  {
   "cell_type": "code",
   "execution_count": 22,
   "id": "dca1e27d",
   "metadata": {},
   "outputs": [
    {
     "ename": "SyntaxError",
     "evalue": "invalid syntax (2013639204.py, line 2)",
     "output_type": "error",
     "traceback": [
      "\u001b[1;36m  Cell \u001b[1;32mIn[22], line 2\u001b[1;36m\u001b[0m\n\u001b[1;33m    existing_func()\u001b[0m\n\u001b[1;37m    ^\u001b[0m\n\u001b[1;31mSyntaxError\u001b[0m\u001b[1;31m:\u001b[0m invalid syntax\n"
     ]
    }
   ],
   "source": [
    "\n"
   ]
  },
  {
   "cell_type": "code",
   "execution_count": 17,
   "id": "450a1b17",
   "metadata": {},
   "outputs": [
    {
     "ename": "SyntaxError",
     "evalue": "unexpected EOF while parsing (2948539762.py, line 1)",
     "output_type": "error",
     "traceback": [
      "\u001b[1;36m  Cell \u001b[1;32mIn[17], line 1\u001b[1;36m\u001b[0m\n\u001b[1;33m    @make_pretty\u001b[0m\n\u001b[1;37m                ^\u001b[0m\n\u001b[1;31mSyntaxError\u001b[0m\u001b[1;31m:\u001b[0m unexpected EOF while parsing\n"
     ]
    }
   ],
   "source": []
  },
  {
   "cell_type": "code",
   "execution_count": null,
   "id": "0087f5d1",
   "metadata": {},
   "outputs": [],
   "source": []
  },
  {
   "cell_type": "code",
   "execution_count": null,
   "id": "116c22b1",
   "metadata": {},
   "outputs": [],
   "source": []
  },
  {
   "cell_type": "code",
   "execution_count": null,
   "id": "79d4d611",
   "metadata": {},
   "outputs": [],
   "source": [
    "#combined usage\n",
    "#list( map(function_name , filter(another_function_name,where to apply)))"
   ]
  },
  {
   "cell_type": "code",
   "execution_count": null,
   "id": "c8bc96a7",
   "metadata": {},
   "outputs": [],
   "source": []
  },
  {
   "cell_type": "code",
   "execution_count": null,
   "id": "41064a10",
   "metadata": {},
   "outputs": [],
   "source": []
  },
  {
   "cell_type": "code",
   "execution_count": null,
   "id": "37b95317",
   "metadata": {},
   "outputs": [],
   "source": []
  },
  {
   "cell_type": "code",
   "execution_count": null,
   "id": "ade4cf62",
   "metadata": {},
   "outputs": [],
   "source": []
  },
  {
   "cell_type": "code",
   "execution_count": null,
   "id": "ccb2bcbf",
   "metadata": {},
   "outputs": [],
   "source": []
  },
  {
   "cell_type": "code",
   "execution_count": null,
   "id": "a1cd25c1",
   "metadata": {},
   "outputs": [],
   "source": []
  },
  {
   "cell_type": "code",
   "execution_count": null,
   "id": "102a6fcb",
   "metadata": {},
   "outputs": [],
   "source": []
  },
  {
   "cell_type": "code",
   "execution_count": 6,
   "id": "d30275e2",
   "metadata": {},
   "outputs": [
    {
     "data": {
      "text/plain": [
       "933262154439441526816992388562667004907159682643816214685929638952175999932299156089414639761565182862536979208272237582511852109168640000000000000000000000"
      ]
     },
     "execution_count": 6,
     "metadata": {},
     "output_type": "execute_result"
    }
   ],
   "source": [
    "#reduce() applies the function to the elements of the sequence, from left to right, starting with the first two elements in the sequence.\n",
    "#keeps integrating results from left to right \n",
    "#Eg\n",
    "#from functools import reduce\n",
    "#ex_num=list(range(1,100))\n",
    "#reduce(lambda x,y:x*y ,ex_num)"
   ]
  },
  {
   "cell_type": "code",
   "execution_count": null,
   "id": "75622c15",
   "metadata": {},
   "outputs": [],
   "source": []
  },
  {
   "cell_type": "code",
   "execution_count": null,
   "id": "d7e2191e",
   "metadata": {},
   "outputs": [],
   "source": []
  },
  {
   "cell_type": "code",
   "execution_count": null,
   "id": "38a8338b",
   "metadata": {},
   "outputs": [],
   "source": []
  },
  {
   "cell_type": "code",
   "execution_count": null,
   "id": "d1519fe6",
   "metadata": {},
   "outputs": [],
   "source": []
  },
  {
   "cell_type": "code",
   "execution_count": null,
   "id": "95e8e786",
   "metadata": {},
   "outputs": [],
   "source": []
  },
  {
   "cell_type": "code",
   "execution_count": null,
   "id": "07b0d9d2",
   "metadata": {},
   "outputs": [],
   "source": []
  },
  {
   "cell_type": "code",
   "execution_count": null,
   "id": "25702cd6",
   "metadata": {},
   "outputs": [],
   "source": []
  },
  {
   "cell_type": "code",
   "execution_count": null,
   "id": "b1c9d7aa",
   "metadata": {},
   "outputs": [],
   "source": []
  },
  {
   "cell_type": "code",
   "execution_count": null,
   "id": "7c4d0e34",
   "metadata": {},
   "outputs": [],
   "source": []
  },
  {
   "cell_type": "code",
   "execution_count": null,
   "id": "a32f441a",
   "metadata": {},
   "outputs": [],
   "source": []
  },
  {
   "cell_type": "code",
   "execution_count": null,
   "id": "24e63f42",
   "metadata": {},
   "outputs": [],
   "source": [
    "#Decorators\n",
    "# Function Wrappers\n",
    "# Function (Function (Function))"
   ]
  },
  {
   "cell_type": "code",
   "execution_count": 7,
   "id": "2d48ce6d",
   "metadata": {},
   "outputs": [
    {
     "name": "stdout",
     "output_type": "stream",
     "text": [
      "25\n"
     ]
    }
   ],
   "source": [
    "# Python program to illustrate functions\n",
    "# Functions can return another function\n",
    "\n",
    "def create_adder(x):\n",
    "\tdef adder(y):\n",
    "\t\treturn x+y\n",
    "\n",
    "\treturn adder\n",
    "\n",
    "add_15 = create_adder(15)\n",
    "\n",
    "print(add_15(10))\n"
   ]
  },
  {
   "cell_type": "code",
   "execution_count": 8,
   "id": "18f8c007",
   "metadata": {},
   "outputs": [
    {
     "name": "stdout",
     "output_type": "stream",
     "text": [
      "3628800\n",
      "Total time taken in :  factorial 2.0117998123168945\n"
     ]
    }
   ],
   "source": [
    "#Decorator Syntax\n",
    "# @decorator_name\n",
    "#define function\n",
    "#use decorator(functionname)\n",
    "# importing libraries\n",
    "import time\n",
    "import math\n",
    "\n",
    "# decorator to calculate duration\n",
    "# taken by any function.\n",
    "def calculate_time(func):\n",
    "\t\n",
    "\t# added arguments inside the inner1,\n",
    "\t# if function takes any arguments,\n",
    "\t# can be added like this.\n",
    "\tdef inner1(*args, **kwargs):\n",
    "\n",
    "\t\t# storing time before function execution\n",
    "\t\tbegin = time.time()\n",
    "\t\t\n",
    "\t\tfunc(*args, **kwargs)\n",
    "\n",
    "\t\t# storing time after function execution\n",
    "\t\tend = time.time()\n",
    "\t\tprint(\"Total time taken in : \", func.__name__, end - begin)\n",
    "\n",
    "\treturn inner1\n",
    "\n",
    "\n",
    "\n",
    "# this can be added to any function present,\n",
    "# in this case to calculate a factorial\n",
    "@calculate_time\n",
    "def factorial(num):\n",
    "\n",
    "\t# sleep 2 seconds because it takes very less time\n",
    "\t# so that you can see the actual difference\n",
    "\ttime.sleep(2)\n",
    "\tprint(math.factorial(num))\n",
    "\n",
    "# calling the function.\n",
    "factorial(10)\n"
   ]
  },
  {
   "cell_type": "code",
   "execution_count": null,
   "id": "3de19d4b",
   "metadata": {},
   "outputs": [],
   "source": []
  }
 ],
 "metadata": {
  "kernelspec": {
   "display_name": "virutalenvclass",
   "language": "python",
   "name": "virutalenvclass"
  },
  "language_info": {
   "codemirror_mode": {
    "name": "ipython",
    "version": 3
   },
   "file_extension": ".py",
   "mimetype": "text/x-python",
   "name": "python",
   "nbconvert_exporter": "python",
   "pygments_lexer": "ipython3",
   "version": "3.9.13"
  }
 },
 "nbformat": 4,
 "nbformat_minor": 5
}
